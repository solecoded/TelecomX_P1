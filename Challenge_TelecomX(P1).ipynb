{
  "nbformat": 4,
  "nbformat_minor": 0,
  "metadata": {
    "colab": {
      "provenance": [],
      "authorship_tag": "ABX9TyNag4WlytYPZngdZGgs1pSc",
      "include_colab_link": true
    },
    "kernelspec": {
      "name": "python3",
      "display_name": "Python 3"
    },
    "language_info": {
      "name": "python"
    }
  },
  "cells": [
    {
      "cell_type": "markdown",
      "metadata": {
        "id": "view-in-github",
        "colab_type": "text"
      },
      "source": [
        "<a href=\"https://colab.research.google.com/github/solecoded/TelecomX_P1/blob/main/Challenge_TelecomX(P1).ipynb\" target=\"_parent\"><img src=\"https://colab.research.google.com/assets/colab-badge.svg\" alt=\"Open In Colab\"/></a>"
      ]
    },
    {
      "cell_type": "markdown",
      "source": [
        "# 📤 1.- Extracción"
      ],
      "metadata": {
        "id": "mucxtekspUVN"
      }
    },
    {
      "cell_type": "code",
      "execution_count": 2,
      "metadata": {
        "colab": {
          "base_uri": "https://localhost:8080/"
        },
        "id": "UO9marWhnhLj",
        "outputId": "f3385cf1-02f8-4048-a7b0-f569fd18eed3"
      },
      "outputs": [
        {
          "output_type": "stream",
          "name": "stdout",
          "text": [
            "Datos cargados exitosamente en un DataFrame.\n",
            "Primeras 5 filas del DataFrame:\n",
            "   customerID Churn                                           customer  \\\n",
            "0  0002-ORFBO    No  {'gender': 'Female', 'SeniorCitizen': 0, 'Part...   \n",
            "1  0003-MKNFE    No  {'gender': 'Male', 'SeniorCitizen': 0, 'Partne...   \n",
            "2  0004-TLHLJ   Yes  {'gender': 'Male', 'SeniorCitizen': 0, 'Partne...   \n",
            "3  0011-IGKFF   Yes  {'gender': 'Male', 'SeniorCitizen': 1, 'Partne...   \n",
            "4  0013-EXCHZ   Yes  {'gender': 'Female', 'SeniorCitizen': 1, 'Part...   \n",
            "\n",
            "                                             phone  \\\n",
            "0   {'PhoneService': 'Yes', 'MultipleLines': 'No'}   \n",
            "1  {'PhoneService': 'Yes', 'MultipleLines': 'Yes'}   \n",
            "2   {'PhoneService': 'Yes', 'MultipleLines': 'No'}   \n",
            "3   {'PhoneService': 'Yes', 'MultipleLines': 'No'}   \n",
            "4   {'PhoneService': 'Yes', 'MultipleLines': 'No'}   \n",
            "\n",
            "                                            internet  \\\n",
            "0  {'InternetService': 'DSL', 'OnlineSecurity': '...   \n",
            "1  {'InternetService': 'DSL', 'OnlineSecurity': '...   \n",
            "2  {'InternetService': 'Fiber optic', 'OnlineSecu...   \n",
            "3  {'InternetService': 'Fiber optic', 'OnlineSecu...   \n",
            "4  {'InternetService': 'Fiber optic', 'OnlineSecu...   \n",
            "\n",
            "                                             account  \n",
            "0  {'Contract': 'One year', 'PaperlessBilling': '...  \n",
            "1  {'Contract': 'Month-to-month', 'PaperlessBilli...  \n",
            "2  {'Contract': 'Month-to-month', 'PaperlessBilli...  \n",
            "3  {'Contract': 'Month-to-month', 'PaperlessBilli...  \n",
            "4  {'Contract': 'Month-to-month', 'PaperlessBilli...  \n"
          ]
        }
      ],
      "source": [
        "import pandas as pd\n",
        "import requests\n",
        "import json\n",
        "\n",
        "# URL del archivo JSON en GitHub\n",
        "url_api = \"https://raw.githubusercontent.com/solecoded/TelecomX_P1/main/TelecomX_Data.json\"\n",
        "\n",
        "# Realizar una solicitud GET a la URL para obtener los datos\n",
        "response = requests.get(url_api)\n",
        "\n",
        "# Verificar que la solicitud fue exitosa\n",
        "if response.status_code == 200:\n",
        "    # Cargar el contenido JSON\n",
        "    datos_json = response.json()\n",
        "\n",
        "    # Convertir el JSON a un DataFrame de Pandas\n",
        "    df = pd.DataFrame(datos_json)\n",
        "\n",
        "    print(\"Datos cargados exitosamente en un DataFrame.\")\n",
        "    print(\"Primeras 5 filas del DataFrame:\")\n",
        "    print(df.head())\n",
        "    # print(df.info())\n",
        "else:\n",
        "    print(f\"Error al cargar los datos. Código de estado: {response.status_code}\")"
      ]
    },
    {
      "cell_type": "markdown",
      "source": [
        "# 🔄 2.- Transformación"
      ],
      "metadata": {
        "id": "sQ113nJLw9UJ"
      }
    },
    {
      "cell_type": "code",
      "source": [],
      "metadata": {
        "id": "Wj6VN5uUxxqp"
      },
      "execution_count": null,
      "outputs": []
    },
    {
      "cell_type": "markdown",
      "source": [
        "# 📥 3.- Carga"
      ],
      "metadata": {
        "id": "MbERtVssxwcT"
      }
    },
    {
      "cell_type": "markdown",
      "source": [
        "# 📊 4.- Análisis"
      ],
      "metadata": {
        "id": "Kew5XGzExl7n"
      }
    },
    {
      "cell_type": "markdown",
      "source": [
        "# 📑 5.- Informe"
      ],
      "metadata": {
        "id": "XOR54H8lyOcp"
      }
    }
  ]
}