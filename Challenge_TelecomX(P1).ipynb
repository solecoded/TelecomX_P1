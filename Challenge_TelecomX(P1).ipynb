{
  "nbformat": 4,
  "nbformat_minor": 0,
  "metadata": {
    "colab": {
      "provenance": [],
      "authorship_tag": "ABX9TyOxwR8Z5knGfpt1sfBDumX3",
      "include_colab_link": true
    },
    "kernelspec": {
      "name": "python3",
      "display_name": "Python 3"
    },
    "language_info": {
      "name": "python"
    }
  },
  "cells": [
    {
      "cell_type": "markdown",
      "metadata": {
        "id": "view-in-github",
        "colab_type": "text"
      },
      "source": [
        "<a href=\"https://colab.research.google.com/github/solecoded/TelecomX_P1/blob/main/Challenge_TelecomX(P1).ipynb\" target=\"_parent\"><img src=\"https://colab.research.google.com/assets/colab-badge.svg\" alt=\"Open In Colab\"/></a>"
      ]
    },
    {
      "cell_type": "markdown",
      "source": [
        "# 📤 1.- Extracción"
      ],
      "metadata": {
        "id": "mucxtekspUVN"
      }
    },
    {
      "cell_type": "code",
      "execution_count": 5,
      "metadata": {
        "colab": {
          "base_uri": "https://localhost:8080/"
        },
        "id": "UO9marWhnhLj",
        "outputId": "40a9e4c0-a003-4531-be75-84c38559be29"
      },
      "outputs": [
        {
          "output_type": "stream",
          "name": "stdout",
          "text": [
            "Datos cargados exitosamente en un DataFrame.\n",
            "Primeras 5 filas del DataFrame:\n",
            "   customerID Churn                                           customer  \\\n",
            "0  0002-ORFBO    No  {'gender': 'Female', 'SeniorCitizen': 0, 'Part...   \n",
            "1  0003-MKNFE    No  {'gender': 'Male', 'SeniorCitizen': 0, 'Partne...   \n",
            "2  0004-TLHLJ   Yes  {'gender': 'Male', 'SeniorCitizen': 0, 'Partne...   \n",
            "3  0011-IGKFF   Yes  {'gender': 'Male', 'SeniorCitizen': 1, 'Partne...   \n",
            "4  0013-EXCHZ   Yes  {'gender': 'Female', 'SeniorCitizen': 1, 'Part...   \n",
            "\n",
            "                                             phone  \\\n",
            "0   {'PhoneService': 'Yes', 'MultipleLines': 'No'}   \n",
            "1  {'PhoneService': 'Yes', 'MultipleLines': 'Yes'}   \n",
            "2   {'PhoneService': 'Yes', 'MultipleLines': 'No'}   \n",
            "3   {'PhoneService': 'Yes', 'MultipleLines': 'No'}   \n",
            "4   {'PhoneService': 'Yes', 'MultipleLines': 'No'}   \n",
            "\n",
            "                                            internet  \\\n",
            "0  {'InternetService': 'DSL', 'OnlineSecurity': '...   \n",
            "1  {'InternetService': 'DSL', 'OnlineSecurity': '...   \n",
            "2  {'InternetService': 'Fiber optic', 'OnlineSecu...   \n",
            "3  {'InternetService': 'Fiber optic', 'OnlineSecu...   \n",
            "4  {'InternetService': 'Fiber optic', 'OnlineSecu...   \n",
            "\n",
            "                                             account  \n",
            "0  {'Contract': 'One year', 'PaperlessBilling': '...  \n",
            "1  {'Contract': 'Month-to-month', 'PaperlessBilli...  \n",
            "2  {'Contract': 'Month-to-month', 'PaperlessBilli...  \n",
            "3  {'Contract': 'Month-to-month', 'PaperlessBilli...  \n",
            "4  {'Contract': 'Month-to-month', 'PaperlessBilli...  \n"
          ]
        }
      ],
      "source": [
        "import pandas as pd\n",
        "import requests\n",
        "import json\n",
        "\n",
        "# URL del archivo JSON en GitHub\n",
        "url_api = \"https://raw.githubusercontent.com/solecoded/TelecomX_P1/main/TelecomX_Data.json\"\n",
        "\n",
        "# Realizar una solicitud GET a la URL para obtener los datos\n",
        "response = requests.get(url_api)\n",
        "\n",
        "# Verificar que la solicitud fue exitosa\n",
        "if response.status_code == 200:\n",
        "    # Cargar el contenido JSON\n",
        "    datos_json = response.json()\n",
        "\n",
        "    # Convertir el JSON a un DataFrame de Pandas\n",
        "    df = pd.DataFrame(datos_json)\n",
        "\n",
        "    print(\"Datos cargados exitosamente en un DataFrame.\")\n",
        "    print(\"Primeras 5 filas del DataFrame:\")\n",
        "    print(df.head())\n",
        "    # print(df.info())\n",
        "else:\n",
        "    print(f\"Error al cargar los datos. Código de estado: {response.status_code}\")"
      ]
    },
    {
      "cell_type": "code",
      "source": [
        "# Muestra un resumen conciso del DataFrame\n",
        "df.info()\n",
        "\n",
        "# Muestra el tipo de dato de cada columna\n",
        "print(\"\\nTipos de datos de cada columna:\")\n",
        "print(df.dtypes)"
      ],
      "metadata": {
        "colab": {
          "base_uri": "https://localhost:8080/"
        },
        "id": "fzJAHISNylbh",
        "outputId": "3ea67ef8-00ba-44e7-97c9-a4d8b07e54d7"
      },
      "execution_count": 6,
      "outputs": [
        {
          "output_type": "stream",
          "name": "stdout",
          "text": [
            "<class 'pandas.core.frame.DataFrame'>\n",
            "RangeIndex: 7267 entries, 0 to 7266\n",
            "Data columns (total 6 columns):\n",
            " #   Column      Non-Null Count  Dtype \n",
            "---  ------      --------------  ----- \n",
            " 0   customerID  7267 non-null   object\n",
            " 1   Churn       7267 non-null   object\n",
            " 2   customer    7267 non-null   object\n",
            " 3   phone       7267 non-null   object\n",
            " 4   internet    7267 non-null   object\n",
            " 5   account     7267 non-null   object\n",
            "dtypes: object(6)\n",
            "memory usage: 340.8+ KB\n",
            "\n",
            "Tipos de datos de cada columna:\n",
            "customerID    object\n",
            "Churn         object\n",
            "customer      object\n",
            "phone         object\n",
            "internet      object\n",
            "account       object\n",
            "dtype: object\n"
          ]
        }
      ]
    },
    {
      "cell_type": "markdown",
      "source": [
        "# 🔄 2.- Transformación"
      ],
      "metadata": {
        "id": "sQ113nJLw9UJ"
      }
    },
    {
      "cell_type": "markdown",
      "source": [
        "**Aplanado de columnas**"
      ],
      "metadata": {
        "id": "4pAdcIbizzrV"
      }
    },
    {
      "cell_type": "code",
      "source": [
        "# Aplanando la columna 'customer' y uniendo los resultados\n",
        "df = pd.concat([df, pd.json_normalize(df['customer'])], axis=1)\n",
        "\n",
        "# Aplanando la columna 'phone' y uniendo los resultados\n",
        "df = pd.concat([df, pd.json_normalize(df['phone'])], axis=1)\n",
        "\n",
        "# Aplanando la columna 'internet' y uniendo los resultados\n",
        "df = pd.concat([df, pd.json_normalize(df['internet'])], axis=1)\n",
        "\n",
        "# Aplanando la columna 'account' y uniendo los resultados\n",
        "df = pd.concat([df, pd.json_normalize(df['account'])], axis=1)\n",
        "\n",
        "# Mostramos el resultado para que veas todas las columnas.\n",
        "print(\"DataFrame con columnas aplanadas y originales:\")\n",
        "# df.drop(columns=['customer', 'phone', 'internet', 'account'], inplace=True)\n",
        "print(df.info())"
      ],
      "metadata": {
        "colab": {
          "base_uri": "https://localhost:8080/"
        },
        "id": "Wj6VN5uUxxqp",
        "outputId": "9a30a9cc-76c4-42e3-9b68-35944107feb9"
      },
      "execution_count": 7,
      "outputs": [
        {
          "output_type": "stream",
          "name": "stdout",
          "text": [
            "DataFrame con columnas aplanadas y originales:\n",
            "<class 'pandas.core.frame.DataFrame'>\n",
            "RangeIndex: 7267 entries, 0 to 7266\n",
            "Data columns (total 25 columns):\n",
            " #   Column            Non-Null Count  Dtype  \n",
            "---  ------            --------------  -----  \n",
            " 0   customerID        7267 non-null   object \n",
            " 1   Churn             7267 non-null   object \n",
            " 2   customer          7267 non-null   object \n",
            " 3   phone             7267 non-null   object \n",
            " 4   internet          7267 non-null   object \n",
            " 5   account           7267 non-null   object \n",
            " 6   gender            7267 non-null   object \n",
            " 7   SeniorCitizen     7267 non-null   int64  \n",
            " 8   Partner           7267 non-null   object \n",
            " 9   Dependents        7267 non-null   object \n",
            " 10  tenure            7267 non-null   int64  \n",
            " 11  PhoneService      7267 non-null   object \n",
            " 12  MultipleLines     7267 non-null   object \n",
            " 13  InternetService   7267 non-null   object \n",
            " 14  OnlineSecurity    7267 non-null   object \n",
            " 15  OnlineBackup      7267 non-null   object \n",
            " 16  DeviceProtection  7267 non-null   object \n",
            " 17  TechSupport       7267 non-null   object \n",
            " 18  StreamingTV       7267 non-null   object \n",
            " 19  StreamingMovies   7267 non-null   object \n",
            " 20  Contract          7267 non-null   object \n",
            " 21  PaperlessBilling  7267 non-null   object \n",
            " 22  PaymentMethod     7267 non-null   object \n",
            " 23  Charges.Monthly   7267 non-null   float64\n",
            " 24  Charges.Total     7267 non-null   object \n",
            "dtypes: float64(1), int64(2), object(22)\n",
            "memory usage: 1.4+ MB\n",
            "None\n"
          ]
        }
      ]
    },
    {
      "cell_type": "code",
      "source": [],
      "metadata": {
        "id": "HUM3znIsy05Y"
      },
      "execution_count": 7,
      "outputs": []
    },
    {
      "cell_type": "markdown",
      "source": [
        "**Mapeo nombre de columnas a sus traducciones**"
      ],
      "metadata": {
        "id": "yUkrChzUyyln"
      }
    },
    {
      "cell_type": "code",
      "source": [
        "# Mapear los nombres de las columnas a sus traducciones\n",
        "columnas_traducidas = {\n",
        "    'customerID': 'ID_cliente',\n",
        "    'Churn': 'churn',\n",
        "    'customer': 'cliente',\n",
        "    'phone': 'telefono',\n",
        "    'internet': 'internet',\n",
        "    'account': 'cuenta',\n",
        "    'gender': 'genero',\n",
        "    'SeniorCitizen': 'adultoMayor',\n",
        "    'Partner': 'pareja',\n",
        "    'Dependents': 'dependientes',\n",
        "    'tenure': 'permanenciaMeses',\n",
        "    'PhoneService': 'servicioTelefonico',\n",
        "    'MultipleLines': 'multiplesLineas',\n",
        "    'InternetService': 'servicioInternet',\n",
        "    'OnlineSecurity': 'seguridadOnline',\n",
        "    'OnlineBackup': 'respaldoOnline',\n",
        "    'DeviceProtection': 'proteccionDispositivo',\n",
        "    'TechSupport': 'soporteTecnico',\n",
        "    'StreamingTV': 'streamingTV',\n",
        "    'StreamingMovies': 'streamingPeliculas',\n",
        "    'Contract': 'tipoContrato',\n",
        "    'PaperlessBilling': 'facturacionOnline',\n",
        "    'PaymentMethod': 'metodoPago',\n",
        "    'Charges.Monthly': 'cargosMensuales',\n",
        "    'Charges.Total': 'cargosTotales'\n",
        "}\n",
        "\n",
        "# Renombrar las columnas del DataFrame\n",
        "df = df.rename(columns=columnas_traducidas)\n",
        "\n",
        "# Opcional: imprimir las nuevas columnas para verificar\n",
        "print(df.columns)"
      ],
      "metadata": {
        "colab": {
          "base_uri": "https://localhost:8080/"
        },
        "id": "-bTNuhxMyxnQ",
        "outputId": "dfe0f6bb-0c2d-4256-89ee-f61bfbf924d1"
      },
      "execution_count": 8,
      "outputs": [
        {
          "output_type": "stream",
          "name": "stdout",
          "text": [
            "Index(['ID_cliente', 'churn', 'cliente', 'telefono', 'internet', 'cuenta',\n",
            "       'genero', 'adultoMayor', 'pareja', 'dependientes', 'permanenciaMeses',\n",
            "       'servicioTelefonico', 'multipleslineas', 'servicioInternet',\n",
            "       'seguridadOnline', 'respaldoOnline', 'proteccionDispositivo',\n",
            "       'soporteTecnico', 'streamingTV', 'streamingPeliculas', 'tipoContrato',\n",
            "       'facturacionOnline', 'metodoPago', 'cargosMensuales', 'cargosTotales'],\n",
            "      dtype='object')\n"
          ]
        }
      ]
    },
    {
      "cell_type": "markdown",
      "source": [
        "# 📥 3.- Carga"
      ],
      "metadata": {
        "id": "MbERtVssxwcT"
      }
    },
    {
      "cell_type": "markdown",
      "source": [
        "# 📊 4.- Análisis"
      ],
      "metadata": {
        "id": "Kew5XGzExl7n"
      }
    },
    {
      "cell_type": "markdown",
      "source": [
        "# 📑 5.- Informe"
      ],
      "metadata": {
        "id": "XOR54H8lyOcp"
      }
    }
  ]
}